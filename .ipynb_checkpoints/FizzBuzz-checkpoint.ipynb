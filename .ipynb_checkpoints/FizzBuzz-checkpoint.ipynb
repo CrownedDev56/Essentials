{
 "cells": [
  {
   "cell_type": "code",
   "execution_count": 1,
   "id": "c2e3ab3c",
   "metadata": {
    "ExecuteTime": {
     "end_time": "2021-08-04T18:05:25.122101Z",
     "start_time": "2021-08-04T18:05:25.021090Z"
    }
   },
   "outputs": [
    {
     "ename": "NameError",
     "evalue": "name 'sqrt' is not defined",
     "output_type": "error",
     "traceback": [
      "\u001b[0;31m---------------------------------------------------------------------------\u001b[0m",
      "\u001b[0;31mNameError\u001b[0m                                 Traceback (most recent call last)",
      "\u001b[0;32m/tmp/ipykernel_13342/4157158264.py\u001b[0m in \u001b[0;36m<module>\u001b[0;34m\u001b[0m\n\u001b[1;32m     27\u001b[0m \u001b[0;34m\u001b[0m\u001b[0m\n\u001b[1;32m     28\u001b[0m \u001b[0;34m\u001b[0m\u001b[0m\n\u001b[0;32m---> 29\u001b[0;31m \u001b[0mfizz_buzz\u001b[0m\u001b[0;34m(\u001b[0m\u001b[0mdata\u001b[0m\u001b[0;34m,\u001b[0m \u001b[0;36m16\u001b[0m\u001b[0;34m)\u001b[0m\u001b[0;34m\u001b[0m\u001b[0;34m\u001b[0m\u001b[0m\n\u001b[0m",
      "\u001b[0;32m/tmp/ipykernel_13342/4157158264.py\u001b[0m in \u001b[0;36mfizz_buzz\u001b[0;34m(params, param2, param3)\u001b[0m\n\u001b[1;32m      9\u001b[0m     \u001b[0;32mif\u001b[0m \u001b[0mparam3\u001b[0m \u001b[0;32mis\u001b[0m \u001b[0;32mNone\u001b[0m\u001b[0;34m:\u001b[0m\u001b[0;34m\u001b[0m\u001b[0;34m\u001b[0m\u001b[0m\n\u001b[1;32m     10\u001b[0m         \u001b[0ma\u001b[0m \u001b[0;34m=\u001b[0m \u001b[0mparam2\u001b[0m \u001b[0;34m*\u001b[0m \u001b[0;36m7\u001b[0m\u001b[0;34m\u001b[0m\u001b[0;34m\u001b[0m\u001b[0m\n\u001b[0;32m---> 11\u001b[0;31m         \u001b[0mround\u001b[0m\u001b[0;34m(\u001b[0m\u001b[0msqrt\u001b[0m\u001b[0;34m(\u001b[0m\u001b[0ma\u001b[0m\u001b[0;34m,\u001b[0m\u001b[0;36m1\u001b[0m\u001b[0;34m)\u001b[0m\u001b[0;34m)\u001b[0m\u001b[0;34m\u001b[0m\u001b[0;34m\u001b[0m\u001b[0m\n\u001b[0m\u001b[1;32m     12\u001b[0m \u001b[0;34m\u001b[0m\u001b[0m\n\u001b[1;32m     13\u001b[0m     \u001b[0;32mfor\u001b[0m \u001b[0mi\u001b[0m \u001b[0;32min\u001b[0m \u001b[0mparams\u001b[0m\u001b[0;34m:\u001b[0m\u001b[0;34m\u001b[0m\u001b[0;34m\u001b[0m\u001b[0m\n",
      "\u001b[0;31mNameError\u001b[0m: name 'sqrt' is not defined"
     ]
    }
   ],
   "source": [
    "import math\n",
    "data = [1,2,3,4,5,6,7,8,9,10]\n",
    "\n",
    "def fizz_buzz(params, param2, param3 = None):\n",
    "    fizz = []\n",
    "    buzz = []\n",
    "    fizzbuzz = []\n",
    "    \n",
    "    if param3 is None:\n",
    "        a = param2 * 7\n",
    "        round(a,1)\n",
    "        \n",
    "    for i in params:\n",
    "        if i % param2 == 0:\n",
    "            fizzbuzz.append(i)   \n",
    "         \n",
    "        elif i % 5 == 0:\n",
    "            buzz.append(i)\n",
    "        \n",
    "        elif i % 3 == 0:\n",
    "            fizz.append(i)\n",
    "            \n",
    "    print(fizz)\n",
    "    print(buzz)\n",
    "    print(fizzbuzz)\n",
    "    print(a)\n",
    "            \n",
    "\n",
    "fizz_buzz(data, 16)"
   ]
  },
  {
   "cell_type": "code",
   "execution_count": null,
   "id": "4fc45243",
   "metadata": {},
   "outputs": [],
   "source": [
    "Last value should be defaulted to `None` and if it is `None` we have to:\n",
    "- Take first argument and multiply by `7` (multiply `fizz` argument)\n",
    "- Take `sqrt` from math\n",
    "- Round it to the nearest integer\n",
    "- This will be our second (`buzz`) value for the algorithm"
   ]
  }
 ],
 "metadata": {
  "kernelspec": {
   "display_name": "Python [conda env:aicore] *",
   "language": "python",
   "name": "conda-env-aicore-py"
  },
  "language_info": {
   "codemirror_mode": {
    "name": "ipython",
    "version": 3
   },
   "file_extension": ".py",
   "mimetype": "text/x-python",
   "name": "python",
   "nbconvert_exporter": "python",
   "pygments_lexer": "ipython3",
   "version": "3.9.6"
  }
 },
 "nbformat": 4,
 "nbformat_minor": 5
}
