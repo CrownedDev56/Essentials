{
 "cells": [
  {
   "cell_type": "code",
   "execution_count": 100,
   "id": "c2e3ab3c",
   "metadata": {
    "ExecuteTime": {
     "end_time": "2021-08-04T19:17:09.965947Z",
     "start_time": "2021-08-04T19:17:09.956644Z"
    }
   },
   "outputs": [
    {
     "name": "stdout",
     "output_type": "stream",
     "text": [
      "[3, 6, 9, 12]\n",
      "[5, 10]\n",
      "[15]\n",
      "10.0\n"
     ]
    }
   ],
   "source": [
    "import math\n",
    "data = [1,2,3,4,5,6,7,8,9,10,11,12,13,14,15]\n",
    "\n",
    "def fizz_buzz(params, param2, param3 = None):\n",
    "    fizz = []\n",
    "    buzz = []\n",
    "    fizzbuzz = []\n",
    "    \n",
    "    if param3 is None:\n",
    "        a = param2 * 7\n",
    "        a = round(math.sqrt(a),0)\n",
    "        \n",
    "    for i in params:\n",
    "        if i % param2 == 0:\n",
    "            fizzbuzz.append(i)   \n",
    "         \n",
    "        elif i % 5 == 0:\n",
    "            buzz.append(i)\n",
    "        \n",
    "        elif i % 3 == 0:\n",
    "            fizz.append(i)\n",
    "            \n",
    "    print(fizz)\n",
    "    print(buzz)\n",
    "    print(fizzbuzz)\n",
    "    print(a)\n",
    "            \n",
    "\n",
    "fizz_buzz(data, 15)"
   ]
  },
  {
   "cell_type": "code",
   "execution_count": null,
   "id": "4fc45243",
   "metadata": {
    "ExecuteTime": {
     "end_time": "2021-08-04T18:15:34.818213Z",
     "start_time": "2021-08-04T18:15:34.811777Z"
    }
   },
   "outputs": [],
   "source": []
  },
  {
   "cell_type": "code",
   "execution_count": 101,
   "id": "f40d9cd6",
   "metadata": {
    "ExecuteTime": {
     "end_time": "2021-08-04T19:50:46.678060Z",
     "start_time": "2021-08-04T19:50:46.671155Z"
    }
   },
   "outputs": [],
   "source": [
    "import random as r\n",
    "def bubble_soty(data):\n",
    "    n = len(data)\n",
    "    \n",
    "    for i in range(n):\n",
    "        flag = False\n",
    "        \n",
    "        for j in range(n-1):\n",
    "            if data[j] > data[j+1]:\n",
    "                tmp = data[j]\n",
    "                data[j] = data[j+1]\n",
    "                data[j+1] = tmp\n",
    "                flag = True\n",
    "        if flag == False:\n",
    "            break\n",
    "    return data\n",
    "            "
   ]
  },
  {
   "cell_type": "code",
   "execution_count": 102,
   "id": "866e5195",
   "metadata": {
    "ExecuteTime": {
     "end_time": "2021-08-04T19:50:47.353558Z",
     "start_time": "2021-08-04T19:50:47.346843Z"
    }
   },
   "outputs": [
    {
     "data": {
      "text/plain": [
       "[11, 12, 22, 25, 34, 64, 90]"
      ]
     },
     "execution_count": 102,
     "metadata": {},
     "output_type": "execute_result"
    }
   ],
   "source": [
    "arr = [64, 34, 25, 12, 22, 11, 90]\n",
    "bubble_soty(arr)\n"
   ]
  },
  {
   "cell_type": "code",
   "execution_count": 105,
   "id": "c5a4837c",
   "metadata": {
    "ExecuteTime": {
     "end_time": "2021-08-04T19:56:29.271753Z",
     "start_time": "2021-08-04T19:56:29.264319Z"
    }
   },
   "outputs": [],
   "source": [
    "def bubble_sort(data):\n",
    "    for i in range(len(data)):\n",
    "        for j in range(len(data) -i -1):\n",
    "            if data[j]> data[j+1]:\n",
    "                data[j], data[j+1] = data[j+1], data[j]\n",
    "    return data\n",
    "        \n"
   ]
  },
  {
   "cell_type": "code",
   "execution_count": 106,
   "id": "a856b586",
   "metadata": {
    "ExecuteTime": {
     "end_time": "2021-08-04T19:56:30.926162Z",
     "start_time": "2021-08-04T19:56:30.920606Z"
    }
   },
   "outputs": [
    {
     "data": {
      "text/plain": [
       "[11, 12, 22, 25, 34, 64, 90]"
      ]
     },
     "execution_count": 106,
     "metadata": {},
     "output_type": "execute_result"
    }
   ],
   "source": [
    "\n",
    "bubble_sort(arr)"
   ]
  },
  {
   "cell_type": "code",
   "execution_count": null,
   "id": "8c5fb6ee",
   "metadata": {},
   "outputs": [],
   "source": []
  }
 ],
 "metadata": {
  "kernelspec": {
   "display_name": "Python [conda env:aicore] *",
   "language": "python",
   "name": "conda-env-aicore-py"
  },
  "language_info": {
   "codemirror_mode": {
    "name": "ipython",
    "version": 3
   },
   "file_extension": ".py",
   "mimetype": "text/x-python",
   "name": "python",
   "nbconvert_exporter": "python",
   "pygments_lexer": "ipython3",
   "version": "3.9.6"
  }
 },
 "nbformat": 4,
 "nbformat_minor": 5
}
