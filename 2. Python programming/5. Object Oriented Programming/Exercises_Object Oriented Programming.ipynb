{
 "cells": [
  {
   "cell_type": "markdown",
   "metadata": {},
   "source": [
    "## Exercise\n",
    "Here is an example for you to have a go at. Try defining a class for a cylinder. It should contain: <br>\n",
    "- 2 parameters:\n",
    "    - height\n",
    "    - radius, which should have a default value of 1\n",
    "<br><br>\n",
    "- 4 attributes:\n",
    "    - height\n",
    "    - radius\n",
    "    - surface_area, initialised as None\n",
    "    - volume, initialised as None\n",
    "<br><br>\n",
    "- 2 methods:\n",
    "    - get_surface_area: define surface_area, update attribute surface_area, return surface_area rounded to 2dp.\n",
    "    - get_volume: define volume, update attribute volume, return volume rounded to 2dp.\n",
    "<br><br>\n",
    "- Use google to find the formulae for surface area and volume of a cylinder.\n",
    "- Use the formulae to create method definitions for these."
   ]
  },
  {
   "cell_type": "code",
   "execution_count": 62,
   "metadata": {
    "ExecuteTime": {
     "end_time": "2021-08-09T17:37:25.761799Z",
     "start_time": "2021-08-09T17:37:25.758037Z"
    }
   },
   "outputs": [],
   "source": [
    "import math\n",
    "\n",
    "class Cylinder:\n",
    "    def __init__(self, height, radius):\n",
    "        self.height = height\n",
    "        self.radius = radius\n",
    "        surface_area = None\n",
    "        volume = None\n",
    "        \n",
    "    def get_surface_area(self):\n",
    "        h = self.height\n",
    "        r = self.radius\n",
    "        pi = math.pi\n",
    "        \n",
    "        cir = 2*(r**2)\n",
    "        lat = 2*(r*h)\n",
    "        return round((lat + cir) * pi,2) \n",
    "    \n",
    "    \n",
    "    \n",
    "    "
   ]
  },
  {
   "cell_type": "code",
   "execution_count": 63,
   "metadata": {
    "ExecuteTime": {
     "end_time": "2021-08-09T17:37:30.119524Z",
     "start_time": "2021-08-09T17:37:30.112228Z"
    }
   },
   "outputs": [
    {
     "data": {
      "text/plain": [
       "2199.11"
      ]
     },
     "execution_count": 63,
     "metadata": {},
     "output_type": "execute_result"
    }
   ],
   "source": [
    "Cylinder_1 = Cylinder(25,10)\n",
    "Cylinder_1.get_surface_area()"
   ]
  },
  {
   "cell_type": "code",
   "execution_count": null,
   "metadata": {},
   "outputs": [],
   "source": []
  }
 ],
 "metadata": {
  "interpreter": {
   "hash": "aee8b7b246df8f9039afb4144a1f6fd8d2ca17a180786b69acc140d282b71a49"
  },
  "kernelspec": {
   "display_name": "Python 3 (ipykernel)",
   "language": "python",
   "name": "python3"
  },
  "language_info": {
   "codemirror_mode": {
    "name": "ipython",
    "version": 3
   },
   "file_extension": ".py",
   "mimetype": "text/x-python",
   "name": "python",
   "nbconvert_exporter": "python",
   "pygments_lexer": "ipython3",
   "version": "3.9.6"
  }
 },
 "nbformat": 4,
 "nbformat_minor": 2
}
